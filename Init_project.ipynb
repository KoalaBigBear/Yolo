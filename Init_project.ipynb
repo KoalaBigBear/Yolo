{
  "nbformat": 4,
  "nbformat_minor": 0,
  "metadata": {
    "colab": {
      "name": "Init_project.ipynb",
      "provenance": [],
      "collapsed_sections": []
    },
    "kernelspec": {
      "name": "python3",
      "display_name": "Python 3"
    },
    "language_info": {
      "name": "python"
    }
  },
  "cells": [
    {
      "cell_type": "markdown",
      "source": [
        "[![Open In Colab](https://colab.research.google.com/assets/colab-badge.svg)](https://colab.research.google.com/github/KoalaBigBear/Yolo/blob/main/Init_project.ipynb)"
      ],
      "metadata": {
        "id": "jheazhvV20DV"
      }
    },
    {
      "cell_type": "markdown",
      "source": [
        "Connect To Google Drive"
      ],
      "metadata": {
        "id": "n0NWBswF84ig"
      }
    },
    {
      "cell_type": "code",
      "execution_count": null,
      "metadata": {
        "id": "ci6XPZCv8cqY"
      },
      "outputs": [],
      "source": [
        "from google.colab import drive \n",
        "drive.mount('/content/drive') "
      ]
    },
    {
      "cell_type": "code",
      "source": [
        "pwd()"
      ],
      "metadata": {
        "colab": {
          "base_uri": "https://localhost:8080/",
          "height": 35
        },
        "id": "iqy_T1ku97Go",
        "outputId": "f2b8a2b6-024d-4a02-9b33-413e60a0c78a"
      },
      "execution_count": 2,
      "outputs": [
        {
          "output_type": "execute_result",
          "data": {
            "text/plain": [
              "'/content'"
            ],
            "application/vnd.google.colaboratory.intrinsic+json": {
              "type": "string"
            }
          },
          "metadata": {},
          "execution_count": 2
        }
      ]
    },
    {
      "cell_type": "markdown",
      "source": [
        "Create Folder ColabNotebooks (Note: No spaces between Colab Notebooks)"
      ],
      "metadata": {
        "id": "VXXMAcD389vU"
      }
    },
    {
      "cell_type": "code",
      "source": [
        "import os\n",
        "newpath = '/content/drive/MyDrive/ColabNotebooks/'\n",
        "if not os.path.exists(newpath):\n",
        "    os.makedirs(newpath)"
      ],
      "metadata": {
        "id": "962t1rv789I6"
      },
      "execution_count": null,
      "outputs": []
    },
    {
      "cell_type": "markdown",
      "source": [
        "Move To ColabNotebooks"
      ],
      "metadata": {
        "id": "M7MUa-It-Oh-"
      }
    },
    {
      "cell_type": "code",
      "source": [
        "os.chdir('/content/drive/MyDrive/ColabNotebooks/') \n",
        "os.listdir() "
      ],
      "metadata": {
        "colab": {
          "base_uri": "https://localhost:8080/"
        },
        "id": "J9J-v-mJ-IEo",
        "outputId": "4c6d185b-a6d4-4a24-d8d8-0c5d74b510a0"
      },
      "execution_count": null,
      "outputs": [
        {
          "output_type": "execute_result",
          "data": {
            "text/plain": [
              "[]"
            ]
          },
          "metadata": {},
          "execution_count": 7
        }
      ]
    },
    {
      "cell_type": "markdown",
      "source": [
        "Download Source From GitHub"
      ],
      "metadata": {
        "id": "PcwTEjWh-bT9"
      }
    },
    {
      "cell_type": "code",
      "source": [
        "!git clone https://github.com/KoalaBigBear/Yolo.git\n",
        "print(\"Download Finish\")"
      ],
      "metadata": {
        "colab": {
          "base_uri": "https://localhost:8080/"
        },
        "id": "QFgwpLAu-XBr",
        "outputId": "35f53311-893c-4c90-9d3d-087d6c454b3d"
      },
      "execution_count": null,
      "outputs": [
        {
          "output_type": "stream",
          "name": "stdout",
          "text": [
            "Cloning into 'Yolo'...\n",
            "remote: Enumerating objects: 6040, done.\u001b[K\n",
            "remote: Counting objects: 100% (134/134), done.\u001b[K\n",
            "remote: Compressing objects: 100% (119/119), done.\u001b[K\n",
            "remote: Total 6040 (delta 9), reused 131 (delta 6), pack-reused 5906\u001b[K\n",
            "Receiving objects: 100% (6040/6040), 936.70 MiB | 15.93 MiB/s, done.\n",
            "Resolving deltas: 100% (2991/2991), done.\n",
            "Checking out files: 100% (6101/6101), done.\n",
            "Download Finish\n"
          ]
        }
      ]
    },
    {
      "cell_type": "markdown",
      "source": [
        "Download File Weight Converted h5 From 'pjreddie.com' For Pre- Training, If You Want To Train Your Model"
      ],
      "metadata": {
        "id": "Oh2Wr5PsGaTj"
      }
    },
    {
      "cell_type": "code",
      "source": [
        "os.chdir('/content/drive/MyDrive/ColabNotebooks/Yolo/keras-yolo3/model_data/') \n",
        "os.listdir() \n",
        "!wget --load-cookies /tmp/cookies.txt \"https://docs.google.com/uc?export=download&confirm=$(wget --quiet --save-cookies /tmp/cookies.txt --keep-session-cookies --no-check-certificate 'https://docs.google.com/uc?export=download&id=197yzSl06vNliHJVKfCEEe73iudKbP20n' -O- | sed -rn 's/.*confirm=([0-9A-Za-z_]+).*/\\1\\n/p')&id=197yzSl06vNliHJVKfCEEe73iudKbP20n\" -O yolo_weights.h5  && rm -rf /tmp/cookies.txt"
      ],
      "metadata": {
        "colab": {
          "base_uri": "https://localhost:8080/"
        },
        "id": "b0msWTkFGm5E",
        "outputId": "ce5c21aa-7a5f-4b6c-e2cf-074b8ab69650"
      },
      "execution_count": null,
      "outputs": [
        {
          "output_type": "stream",
          "name": "stdout",
          "text": [
            "--2022-06-13 12:50:59--  https://docs.google.com/uc?export=download&confirm=t&id=197yzSl06vNliHJVKfCEEe73iudKbP20n\n",
            "Resolving docs.google.com (docs.google.com)... 142.250.152.139, 142.250.152.138, 142.250.152.113, ...\n",
            "Connecting to docs.google.com (docs.google.com)|142.250.152.139|:443... connected.\n",
            "HTTP request sent, awaiting response... 303 See Other\n",
            "Location: https://doc-10-2o-docs.googleusercontent.com/docs/securesc/ha0ro937gcuc7l7deffksulhg5h7mbp1/q8s96l66u2dd60butr2dm2iij6ekvl0k/1655124600000/03042226725062557710/*/197yzSl06vNliHJVKfCEEe73iudKbP20n?e=download [following]\n",
            "Warning: wildcards not supported in HTTP.\n",
            "--2022-06-13 12:50:59--  https://doc-10-2o-docs.googleusercontent.com/docs/securesc/ha0ro937gcuc7l7deffksulhg5h7mbp1/q8s96l66u2dd60butr2dm2iij6ekvl0k/1655124600000/03042226725062557710/*/197yzSl06vNliHJVKfCEEe73iudKbP20n?e=download\n",
            "Resolving doc-10-2o-docs.googleusercontent.com (doc-10-2o-docs.googleusercontent.com)... 209.85.145.132, 2607:f8b0:4001:c1e::84\n",
            "Connecting to doc-10-2o-docs.googleusercontent.com (doc-10-2o-docs.googleusercontent.com)|209.85.145.132|:443... connected.\n",
            "HTTP request sent, awaiting response... 200 OK\n",
            "Length: 248686680 (237M) [application/octet-stream]\n",
            "Saving to: ‘yolo_weights.h5’\n",
            "\n",
            "yolo_weights.h5     100%[===================>] 237.17M  33.5MB/s    in 6.8s    \n",
            "\n",
            "2022-06-13 12:51:06 (34.6 MB/s) - ‘yolo_weights.h5’ saved [248686680/248686680]\n",
            "\n"
          ]
        }
      ]
    },
    {
      "cell_type": "markdown",
      "source": [
        "Download File Trained Weight.h5 For 3 Class 'Ball', 'Person', Footwear' "
      ],
      "metadata": {
        "id": "rwP6xnzcBkut"
      }
    },
    {
      "cell_type": "code",
      "source": [
        "os.chdir('/content/drive/MyDrive/ColabNotebooks/Yolo/keras-yolo3/logs/000/') \n",
        "os.listdir() \n",
        "!wget --load-cookies /tmp/cookies.txt \"https://docs.google.com/uc?export=download&confirm=$(wget --quiet --save-cookies /tmp/cookies.txt --keep-session-cookies --no-check-certificate 'https://docs.google.com/uc?export=download&id=19JE60FTG0Xb-XrfMjJ-HOomjRnRMz8xQ' -O- | sed -rn 's/.*confirm=([0-9A-Za-z_]+).*/\\1\\n/p')&id=19JE60FTG0Xb-XrfMjJ-HOomjRnRMz8xQ\" -O trained_weights_final.h5  && rm -rf /tmp/cookies.txt"
      ],
      "metadata": {
        "colab": {
          "base_uri": "https://localhost:8080/"
        },
        "id": "1XeWt67uCw18",
        "outputId": "72cead9e-91ce-4bb3-983f-20ad241cda50"
      },
      "execution_count": null,
      "outputs": [
        {
          "output_type": "stream",
          "name": "stdout",
          "text": [
            "--2022-06-13 13:47:32--  https://docs.google.com/uc?export=download&confirm=t&id=19JE60FTG0Xb-XrfMjJ-HOomjRnRMz8xQ\n",
            "Resolving docs.google.com (docs.google.com)... 142.251.6.113, 142.251.6.102, 142.251.6.138, ...\n",
            "Connecting to docs.google.com (docs.google.com)|142.251.6.113|:443... connected.\n",
            "HTTP request sent, awaiting response... 303 See Other\n",
            "Location: https://doc-0g-2o-docs.googleusercontent.com/docs/securesc/ha0ro937gcuc7l7deffksulhg5h7mbp1/hjc1mkhjioqadl1j3a0viue4bu6ffvrr/1655128050000/03042226725062557710/*/19JE60FTG0Xb-XrfMjJ-HOomjRnRMz8xQ?e=download [following]\n",
            "Warning: wildcards not supported in HTTP.\n",
            "--2022-06-13 13:47:32--  https://doc-0g-2o-docs.googleusercontent.com/docs/securesc/ha0ro937gcuc7l7deffksulhg5h7mbp1/hjc1mkhjioqadl1j3a0viue4bu6ffvrr/1655128050000/03042226725062557710/*/19JE60FTG0Xb-XrfMjJ-HOomjRnRMz8xQ?e=download\n",
            "Resolving doc-0g-2o-docs.googleusercontent.com (doc-0g-2o-docs.googleusercontent.com)... 172.217.219.132, 2607:f8b0:4001:c13::84\n",
            "Connecting to doc-0g-2o-docs.googleusercontent.com (doc-0g-2o-docs.googleusercontent.com)|172.217.219.132|:443... connected.\n",
            "HTTP request sent, awaiting response... 200 OK\n",
            "Length: 246910096 (235M) [application/octet-stream]\n",
            "Saving to: ‘trained_weights_final.h5’\n",
            "\n",
            "trained_weights_fin 100%[===================>] 235.47M  25.5MB/s    in 6.6s    \n",
            "\n",
            "2022-06-13 13:47:39 (35.9 MB/s) - ‘trained_weights_final.h5’ saved [246910096/246910096]\n",
            "\n"
          ]
        }
      ]
    }
  ]
}