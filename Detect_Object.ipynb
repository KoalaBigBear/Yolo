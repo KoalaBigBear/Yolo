{
  "nbformat": 4,
  "nbformat_minor": 0,
  "metadata": {
    "colab": {
      "name": "Detect_Object.ipynb",
      "provenance": [],
      "collapsed_sections": []
    },
    "kernelspec": {
      "name": "python3",
      "display_name": "Python 3"
    },
    "language_info": {
      "name": "python"
    }
  },
  "cells": [
    {
      "cell_type": "markdown",
      "source": [
        "[![Open In Colab](https://colab.research.google.com/assets/colab-badge.svg)](https://colab.research.google.com/github/KoalaBigBear/Yolo/blob/main/Detect_Object.ipynb)"
      ],
      "metadata": {
        "id": "Pq-rOmnd38MY"
      }
    },
    {
      "cell_type": "markdown",
      "source": [
        "Install h5py Package For Read .Py"
      ],
      "metadata": {
        "id": "p_rD5_9RIBkk"
      }
    },
    {
      "cell_type": "code",
      "execution_count": null,
      "metadata": {
        "colab": {
          "base_uri": "https://localhost:8080/",
          "height": 593
        },
        "id": "OWWrmtZbHtc1",
        "outputId": "100e3a03-7bb2-419b-d974-66c99343e71e"
      },
      "outputs": [
        {
          "output_type": "stream",
          "name": "stdout",
          "text": [
            "Looking in indexes: https://pypi.org/simple, https://us-python.pkg.dev/colab-wheels/public/simple/\n",
            "Collecting h5py==2.10.0\n",
            "  Downloading h5py-2.10.0-cp37-cp37m-manylinux1_x86_64.whl (2.9 MB)\n",
            "\u001b[K     |████████████████████████████████| 2.9 MB 5.1 MB/s \n",
            "\u001b[?25hCollecting six\n",
            "  Downloading six-1.16.0-py2.py3-none-any.whl (11 kB)\n",
            "Collecting numpy>=1.7\n",
            "  Downloading numpy-1.21.6-cp37-cp37m-manylinux_2_12_x86_64.manylinux2010_x86_64.whl (15.7 MB)\n",
            "\u001b[K     |████████████████████████████████| 15.7 MB 45.7 MB/s \n",
            "\u001b[?25hInstalling collected packages: six, numpy, h5py\n",
            "  Attempting uninstall: six\n",
            "    Found existing installation: six 1.15.0\n",
            "    Uninstalling six-1.15.0:\n",
            "      Successfully uninstalled six-1.15.0\n",
            "  Attempting uninstall: numpy\n",
            "    Found existing installation: numpy 1.21.6\n",
            "    Uninstalling numpy-1.21.6:\n",
            "      Successfully uninstalled numpy-1.21.6\n",
            "  Attempting uninstall: h5py\n",
            "    Found existing installation: h5py 3.1.0\n",
            "    Uninstalling h5py-3.1.0:\n",
            "      Successfully uninstalled h5py-3.1.0\n",
            "\u001b[31mERROR: pip's dependency resolver does not currently take into account all the packages that are installed. This behaviour is the source of the following dependency conflicts.\n",
            "google-colab 1.0.0 requires six~=1.15.0, but you have six 1.16.0 which is incompatible.\n",
            "datascience 0.10.6 requires folium==0.2.1, but you have folium 0.8.3 which is incompatible.\n",
            "albumentations 0.1.12 requires imgaug<0.2.7,>=0.2.5, but you have imgaug 0.2.9 which is incompatible.\u001b[0m\n",
            "Successfully installed h5py-2.10.0 numpy-1.21.6 six-1.16.0\n"
          ]
        },
        {
          "output_type": "display_data",
          "data": {
            "application/vnd.colab-display-data+json": {
              "pip_warning": {
                "packages": [
                  "numpy",
                  "six"
                ]
              }
            }
          },
          "metadata": {}
        }
      ],
      "source": [
        "!pip install h5py==2.10.0 --force-reinstall"
      ]
    },
    {
      "cell_type": "markdown",
      "source": [
        "Install Tensorflow==1.13.1 And keras==2.2.4"
      ],
      "metadata": {
        "id": "_ZIvb6G0Ifzn"
      }
    },
    {
      "cell_type": "code",
      "source": [
        "!pip install tensorflow==1.13.1\n",
        "!pip install keras==2.2.4"
      ],
      "metadata": {
        "colab": {
          "base_uri": "https://localhost:8080/"
        },
        "id": "ivCYjdB6IfMk",
        "outputId": "30c9330c-5688-48c0-d1a6-85797650c0ad"
      },
      "execution_count": null,
      "outputs": [
        {
          "output_type": "stream",
          "name": "stdout",
          "text": [
            "Looking in indexes: https://pypi.org/simple, https://us-python.pkg.dev/colab-wheels/public/simple/\n",
            "Collecting tensorflow==1.13.1\n",
            "  Downloading tensorflow-1.13.1-cp37-cp37m-manylinux1_x86_64.whl (92.6 MB)\n",
            "\u001b[K     |████████████████████████████████| 92.6 MB 58 kB/s \n",
            "\u001b[?25hCollecting keras-applications>=1.0.6\n",
            "  Downloading Keras_Applications-1.0.8-py3-none-any.whl (50 kB)\n",
            "\u001b[K     |████████████████████████████████| 50 kB 7.7 MB/s \n",
            "\u001b[?25hRequirement already satisfied: numpy>=1.13.3 in /usr/local/lib/python3.7/dist-packages (from tensorflow==1.13.1) (1.21.6)\n",
            "Requirement already satisfied: protobuf>=3.6.1 in /usr/local/lib/python3.7/dist-packages (from tensorflow==1.13.1) (3.17.3)\n",
            "Collecting tensorboard<1.14.0,>=1.13.0\n",
            "  Downloading tensorboard-1.13.1-py3-none-any.whl (3.2 MB)\n",
            "\u001b[K     |████████████████████████████████| 3.2 MB 46.4 MB/s \n",
            "\u001b[?25hCollecting tensorflow-estimator<1.14.0rc0,>=1.13.0\n",
            "  Downloading tensorflow_estimator-1.13.0-py2.py3-none-any.whl (367 kB)\n",
            "\u001b[K     |████████████████████████████████| 367 kB 41.1 MB/s \n",
            "\u001b[?25hRequirement already satisfied: absl-py>=0.1.6 in /usr/local/lib/python3.7/dist-packages (from tensorflow==1.13.1) (1.0.0)\n",
            "Requirement already satisfied: six>=1.10.0 in /usr/local/lib/python3.7/dist-packages (from tensorflow==1.13.1) (1.16.0)\n",
            "Requirement already satisfied: wheel>=0.26 in /usr/local/lib/python3.7/dist-packages (from tensorflow==1.13.1) (0.37.1)\n",
            "Requirement already satisfied: gast>=0.2.0 in /usr/local/lib/python3.7/dist-packages (from tensorflow==1.13.1) (0.5.3)\n",
            "Requirement already satisfied: keras-preprocessing>=1.0.5 in /usr/local/lib/python3.7/dist-packages (from tensorflow==1.13.1) (1.1.2)\n",
            "Requirement already satisfied: grpcio>=1.8.6 in /usr/local/lib/python3.7/dist-packages (from tensorflow==1.13.1) (1.46.3)\n",
            "Requirement already satisfied: termcolor>=1.1.0 in /usr/local/lib/python3.7/dist-packages (from tensorflow==1.13.1) (1.1.0)\n",
            "Requirement already satisfied: astor>=0.6.0 in /usr/local/lib/python3.7/dist-packages (from tensorflow==1.13.1) (0.8.1)\n",
            "Requirement already satisfied: h5py in /usr/local/lib/python3.7/dist-packages (from keras-applications>=1.0.6->tensorflow==1.13.1) (2.10.0)\n",
            "Requirement already satisfied: markdown>=2.6.8 in /usr/local/lib/python3.7/dist-packages (from tensorboard<1.14.0,>=1.13.0->tensorflow==1.13.1) (3.3.7)\n",
            "Requirement already satisfied: werkzeug>=0.11.15 in /usr/local/lib/python3.7/dist-packages (from tensorboard<1.14.0,>=1.13.0->tensorflow==1.13.1) (1.0.1)\n",
            "Requirement already satisfied: importlib-metadata>=4.4 in /usr/local/lib/python3.7/dist-packages (from markdown>=2.6.8->tensorboard<1.14.0,>=1.13.0->tensorflow==1.13.1) (4.11.4)\n",
            "Requirement already satisfied: zipp>=0.5 in /usr/local/lib/python3.7/dist-packages (from importlib-metadata>=4.4->markdown>=2.6.8->tensorboard<1.14.0,>=1.13.0->tensorflow==1.13.1) (3.8.0)\n",
            "Requirement already satisfied: typing-extensions>=3.6.4 in /usr/local/lib/python3.7/dist-packages (from importlib-metadata>=4.4->markdown>=2.6.8->tensorboard<1.14.0,>=1.13.0->tensorflow==1.13.1) (4.2.0)\n",
            "Collecting mock>=2.0.0\n",
            "  Downloading mock-4.0.3-py3-none-any.whl (28 kB)\n",
            "Installing collected packages: mock, tensorflow-estimator, tensorboard, keras-applications, tensorflow\n",
            "  Attempting uninstall: tensorflow-estimator\n",
            "    Found existing installation: tensorflow-estimator 2.8.0\n",
            "    Uninstalling tensorflow-estimator-2.8.0:\n",
            "      Successfully uninstalled tensorflow-estimator-2.8.0\n",
            "  Attempting uninstall: tensorboard\n",
            "    Found existing installation: tensorboard 2.8.0\n",
            "    Uninstalling tensorboard-2.8.0:\n",
            "      Successfully uninstalled tensorboard-2.8.0\n",
            "  Attempting uninstall: tensorflow\n",
            "    Found existing installation: tensorflow 2.8.2+zzzcolab20220527125636\n",
            "    Uninstalling tensorflow-2.8.2+zzzcolab20220527125636:\n",
            "      Successfully uninstalled tensorflow-2.8.2+zzzcolab20220527125636\n",
            "\u001b[31mERROR: pip's dependency resolver does not currently take into account all the packages that are installed. This behaviour is the source of the following dependency conflicts.\n",
            "kapre 0.3.7 requires tensorflow>=2.0.0, but you have tensorflow 1.13.1 which is incompatible.\u001b[0m\n",
            "Successfully installed keras-applications-1.0.8 mock-4.0.3 tensorboard-1.13.1 tensorflow-1.13.1 tensorflow-estimator-1.13.0\n",
            "Looking in indexes: https://pypi.org/simple, https://us-python.pkg.dev/colab-wheels/public/simple/\n",
            "Collecting keras==2.2.4\n",
            "  Downloading Keras-2.2.4-py2.py3-none-any.whl (312 kB)\n",
            "\u001b[K     |████████████████████████████████| 312 kB 5.1 MB/s \n",
            "\u001b[?25hRequirement already satisfied: scipy>=0.14 in /usr/local/lib/python3.7/dist-packages (from keras==2.2.4) (1.4.1)\n",
            "Requirement already satisfied: six>=1.9.0 in /usr/local/lib/python3.7/dist-packages (from keras==2.2.4) (1.16.0)\n",
            "Requirement already satisfied: keras-preprocessing>=1.0.5 in /usr/local/lib/python3.7/dist-packages (from keras==2.2.4) (1.1.2)\n",
            "Requirement already satisfied: h5py in /usr/local/lib/python3.7/dist-packages (from keras==2.2.4) (2.10.0)\n",
            "Requirement already satisfied: numpy>=1.9.1 in /usr/local/lib/python3.7/dist-packages (from keras==2.2.4) (1.21.6)\n",
            "Requirement already satisfied: keras-applications>=1.0.6 in /usr/local/lib/python3.7/dist-packages (from keras==2.2.4) (1.0.8)\n",
            "Requirement already satisfied: pyyaml in /usr/local/lib/python3.7/dist-packages (from keras==2.2.4) (3.13)\n",
            "Installing collected packages: keras\n",
            "  Attempting uninstall: keras\n",
            "    Found existing installation: keras 2.8.0\n",
            "    Uninstalling keras-2.8.0:\n",
            "      Successfully uninstalled keras-2.8.0\n",
            "Successfully installed keras-2.2.4\n"
          ]
        }
      ]
    },
    {
      "cell_type": "markdown",
      "source": [
        "Connect To Google Drive"
      ],
      "metadata": {
        "id": "Q8PtieIyIYJz"
      }
    },
    {
      "cell_type": "code",
      "source": [
        "from google.colab import drive\n",
        "drive.mount('/content/drive')"
      ],
      "metadata": {
        "colab": {
          "base_uri": "https://localhost:8080/"
        },
        "id": "Tcnmcne_ITVB",
        "outputId": "13267513-d644-4d9a-fb05-2b4ea6e44cca"
      },
      "execution_count": null,
      "outputs": [
        {
          "output_type": "stream",
          "name": "stdout",
          "text": [
            "Mounted at /content/drive\n"
          ]
        }
      ]
    },
    {
      "cell_type": "code",
      "source": [
        "import os\n",
        "os.chdir('/content/drive/MyDrive/ColabNotebooks/Yolo/keras-yolo3/')\n",
        "os.getcwd()"
      ],
      "metadata": {
        "colab": {
          "base_uri": "https://localhost:8080/",
          "height": 35
        },
        "id": "pZMJGzd6Iu1V",
        "outputId": "20bbebed-963b-4b5c-b860-96dd91faf830"
      },
      "execution_count": null,
      "outputs": [
        {
          "output_type": "execute_result",
          "data": {
            "text/plain": [
              "'/content/drive/MyDrive/ColabNotebooks/Yolo/keras-yolo3'"
            ],
            "application/vnd.google.colaboratory.intrinsic+json": {
              "type": "string"
            }
          },
          "metadata": {},
          "execution_count": 3
        }
      ]
    },
    {
      "cell_type": "markdown",
      "source": [
        "Detecting Object With Images"
      ],
      "metadata": {
        "id": "WmBti-L_UsUm"
      }
    },
    {
      "cell_type": "code",
      "source": [
        "!python detect_images.py --input test_image/input/img1.jpg --output test_image/output/img1.jpg"
      ],
      "metadata": {
        "id": "RK-PJ9EhI6KZ"
      },
      "execution_count": null,
      "outputs": []
    },
    {
      "cell_type": "markdown",
      "source": [
        "Detecting Object With Video"
      ],
      "metadata": {
        "id": "nsNcv5kGU4Yd"
      }
    },
    {
      "cell_type": "code",
      "source": [
        "!python detect_videos.py --input test_video/input/BasketBall_2s.mp4 --output test_video/output"
      ],
      "metadata": {
        "colab": {
          "base_uri": "https://localhost:8080/"
        },
        "id": "EdvRr1iiU-TB",
        "outputId": "d04f93a9-5964-4d4e-af28-e26fc2e27d34"
      },
      "execution_count": null,
      "outputs": [
        {
          "output_type": "stream",
          "name": "stdout",
          "text": [
            "Using TensorFlow backend.\n",
            "/usr/local/lib/python3.7/dist-packages/tensorflow/python/framework/dtypes.py:526: FutureWarning: Passing (type, 1) or '1type' as a synonym of type is deprecated; in a future version of numpy, it will be understood as (type, (1,)) / '(1,)type'.\n",
            "  _np_qint8 = np.dtype([(\"qint8\", np.int8, 1)])\n",
            "/usr/local/lib/python3.7/dist-packages/tensorflow/python/framework/dtypes.py:527: FutureWarning: Passing (type, 1) or '1type' as a synonym of type is deprecated; in a future version of numpy, it will be understood as (type, (1,)) / '(1,)type'.\n",
            "  _np_quint8 = np.dtype([(\"quint8\", np.uint8, 1)])\n",
            "/usr/local/lib/python3.7/dist-packages/tensorflow/python/framework/dtypes.py:528: FutureWarning: Passing (type, 1) or '1type' as a synonym of type is deprecated; in a future version of numpy, it will be understood as (type, (1,)) / '(1,)type'.\n",
            "  _np_qint16 = np.dtype([(\"qint16\", np.int16, 1)])\n",
            "/usr/local/lib/python3.7/dist-packages/tensorflow/python/framework/dtypes.py:529: FutureWarning: Passing (type, 1) or '1type' as a synonym of type is deprecated; in a future version of numpy, it will be understood as (type, (1,)) / '(1,)type'.\n",
            "  _np_quint16 = np.dtype([(\"quint16\", np.uint16, 1)])\n",
            "/usr/local/lib/python3.7/dist-packages/tensorflow/python/framework/dtypes.py:530: FutureWarning: Passing (type, 1) or '1type' as a synonym of type is deprecated; in a future version of numpy, it will be understood as (type, (1,)) / '(1,)type'.\n",
            "  _np_qint32 = np.dtype([(\"qint32\", np.int32, 1)])\n",
            "/usr/local/lib/python3.7/dist-packages/tensorflow/python/framework/dtypes.py:535: FutureWarning: Passing (type, 1) or '1type' as a synonym of type is deprecated; in a future version of numpy, it will be understood as (type, (1,)) / '(1,)type'.\n",
            "  np_resource = np.dtype([(\"resource\", np.ubyte, 1)])\n",
            "2022-06-13 15:45:20.578540: I tensorflow/core/platform/cpu_feature_guard.cc:141] Your CPU supports instructions that this TensorFlow binary was not compiled to use: AVX2 FMA\n",
            "2022-06-13 15:45:20.581580: I tensorflow/core/platform/profile_utils/cpu_utils.cc:94] CPU Frequency: 2199995000 Hz\n",
            "2022-06-13 15:45:20.581801: I tensorflow/compiler/xla/service/service.cc:150] XLA service 0x1a62dc0 executing computations on platform Host. Devices:\n",
            "2022-06-13 15:45:20.581837: I tensorflow/compiler/xla/service/service.cc:158]   StreamExecutor device (0): <undefined>, <undefined>\n",
            "WARNING:tensorflow:From /usr/local/lib/python3.7/dist-packages/tensorflow/python/framework/op_def_library.py:263: colocate_with (from tensorflow.python.framework.ops) is deprecated and will be removed in a future version.\n",
            "Instructions for updating:\n",
            "Colocations handled automatically by placer.\n",
            "logs/000/trained_weights_final.h5 model, anchors, and classes loaded.\n",
            "[ERROR:0] global /io/opencv/modules/videoio/src/cap.cpp (392) open VIDEOIO(CV_IMAGES): raised OpenCV exception:\n",
            "\n",
            "OpenCV(4.1.2) /io/opencv/modules/videoio/src/cap_images.cpp:253: error: (-5:Bad argument) CAP_IMAGES: can't find starting number (in the name of file): test_video/output/frame in function 'icvExtractPattern'\n",
            "\n",
            "\n",
            "Found 1 boxes for img\n",
            "0001.jpg\n",
            "Found 1 boxes for img\n",
            "0002.jpg\n",
            "Found 1 boxes for img\n",
            "0003.jpg\n",
            "Found 1 boxes for img\n",
            "0004.jpg\n",
            "Found 1 boxes for img\n",
            "0005.jpg\n",
            "Found 1 boxes for img\n",
            "0006.jpg\n",
            "Found 1 boxes for img\n",
            "0007.jpg\n",
            "Found 1 boxes for img\n",
            "0008.jpg\n",
            "Found 1 boxes for img\n",
            "0009.jpg\n",
            "Found 1 boxes for img\n",
            "0010.jpg\n",
            "Found 1 boxes for img\n",
            "0011.jpg\n",
            "Found 1 boxes for img\n",
            "0012.jpg\n",
            "Found 1 boxes for img\n",
            "0013.jpg\n",
            "Found 1 boxes for img\n",
            "0014.jpg\n",
            "Found 1 boxes for img\n",
            "0015.jpg\n",
            "Found 1 boxes for img\n",
            "0016.jpg\n",
            "Found 1 boxes for img\n",
            "0017.jpg\n",
            "Found 1 boxes for img\n",
            "0018.jpg\n",
            "Found 1 boxes for img\n",
            "0019.jpg\n",
            "Found 1 boxes for img\n",
            "0020.jpg\n",
            "Found 1 boxes for img\n",
            "0021.jpg\n",
            "Found 2 boxes for img\n",
            "0022.jpg\n",
            "Found 2 boxes for img\n",
            "0023.jpg\n",
            "Found 2 boxes for img\n",
            "0024.jpg\n",
            "Found 2 boxes for img\n",
            "0025.jpg\n",
            "Found 2 boxes for img\n",
            "0026.jpg\n",
            "Found 2 boxes for img\n",
            "0027.jpg\n",
            "Found 2 boxes for img\n",
            "0028.jpg\n",
            "Found 1 boxes for img\n",
            "0029.jpg\n",
            "Found 1 boxes for img\n",
            "0030.jpg\n",
            "Found 1 boxes for img\n",
            "0031.jpg\n",
            "Found 2 boxes for img\n",
            "0032.jpg\n",
            "Found 2 boxes for img\n",
            "0033.jpg\n",
            "Found 2 boxes for img\n",
            "0034.jpg\n",
            "Found 2 boxes for img\n",
            "0035.jpg\n",
            "Found 2 boxes for img\n",
            "0036.jpg\n",
            "Found 2 boxes for img\n",
            "0037.jpg\n",
            "Found 1 boxes for img\n",
            "0038.jpg\n",
            "Found 1 boxes for img\n",
            "0039.jpg\n",
            "Found 1 boxes for img\n",
            "0040.jpg\n",
            "Found 1 boxes for img\n",
            "0041.jpg\n",
            "Found 1 boxes for img\n",
            "0042.jpg\n",
            "Found 1 boxes for img\n",
            "0043.jpg\n",
            "Found 1 boxes for img\n",
            "0044.jpg\n",
            "Found 1 boxes for img\n",
            "0045.jpg\n",
            "Found 1 boxes for img\n",
            "0046.jpg\n",
            "Found 1 boxes for img\n",
            "0047.jpg\n",
            "Found 1 boxes for img\n",
            "0048.jpg\n",
            "Found 1 boxes for img\n",
            "0049.jpg\n",
            "Found 1 boxes for img\n",
            "0050.jpg\n",
            "Found 1 boxes for img\n",
            "0051.jpg\n",
            "Found 1 boxes for img\n",
            "0052.jpg\n",
            "Found 1 boxes for img\n",
            "0053.jpg\n",
            "Found 1 boxes for img\n",
            "0054.jpg\n",
            "Found 1 boxes for img\n",
            "0055.jpg\n",
            "Found 1 boxes for img\n",
            "0056.jpg\n",
            "Found 1 boxes for img\n",
            "0057.jpg\n",
            "Found 1 boxes for img\n",
            "0058.jpg\n",
            "Found 1 boxes for img\n",
            "0059.jpg\n",
            "Found 1 boxes for img\n",
            "0060.jpg\n",
            "['test_video/output/frame/0001.jpg', 'test_video/output/frame/0002.jpg', 'test_video/output/frame/0003.jpg', 'test_video/output/frame/0004.jpg', 'test_video/output/frame/0005.jpg', 'test_video/output/frame/0006.jpg', 'test_video/output/frame/0007.jpg', 'test_video/output/frame/0008.jpg', 'test_video/output/frame/0009.jpg', 'test_video/output/frame/0010.jpg', 'test_video/output/frame/0011.jpg', 'test_video/output/frame/0012.jpg', 'test_video/output/frame/0013.jpg', 'test_video/output/frame/0014.jpg', 'test_video/output/frame/0015.jpg', 'test_video/output/frame/0016.jpg', 'test_video/output/frame/0017.jpg', 'test_video/output/frame/0018.jpg', 'test_video/output/frame/0019.jpg', 'test_video/output/frame/0020.jpg', 'test_video/output/frame/0021.jpg', 'test_video/output/frame/0022.jpg', 'test_video/output/frame/0023.jpg', 'test_video/output/frame/0024.jpg', 'test_video/output/frame/0025.jpg', 'test_video/output/frame/0026.jpg', 'test_video/output/frame/0027.jpg', 'test_video/output/frame/0028.jpg', 'test_video/output/frame/0029.jpg', 'test_video/output/frame/0030.jpg', 'test_video/output/frame/0031.jpg', 'test_video/output/frame/0032.jpg', 'test_video/output/frame/0033.jpg', 'test_video/output/frame/0034.jpg', 'test_video/output/frame/0035.jpg', 'test_video/output/frame/0036.jpg', 'test_video/output/frame/0037.jpg', 'test_video/output/frame/0038.jpg', 'test_video/output/frame/0039.jpg', 'test_video/output/frame/0040.jpg', 'test_video/output/frame/0041.jpg', 'test_video/output/frame/0042.jpg', 'test_video/output/frame/0043.jpg', 'test_video/output/frame/0044.jpg', 'test_video/output/frame/0045.jpg', 'test_video/output/frame/0046.jpg', 'test_video/output/frame/0047.jpg', 'test_video/output/frame/0048.jpg', 'test_video/output/frame/0049.jpg', 'test_video/output/frame/0050.jpg', 'test_video/output/frame/0051.jpg', 'test_video/output/frame/0052.jpg', 'test_video/output/frame/0053.jpg', 'test_video/output/frame/0054.jpg', 'test_video/output/frame/0055.jpg', 'test_video/output/frame/0056.jpg', 'test_video/output/frame/0057.jpg', 'test_video/output/frame/0058.jpg', 'test_video/output/frame/0059.jpg', 'test_video/output/frame/0060.jpg']\n"
          ]
        }
      ]
    },
    {
      "cell_type": "code",
      "source": [
        "from datetime import datetime\n",
        "now = datetime.now()\n",
        "print(\"now =\", now)\n",
        "dt_string = now.strftime(\"%d/%m/%Y_%H:%M:%S\")\n",
        "print(\"date and time =\", dt_string)"
      ],
      "metadata": {
        "colab": {
          "base_uri": "https://localhost:8080/"
        },
        "id": "FzFEpSeTYi5K",
        "outputId": "f8f29b5c-bf8a-4c5d-e7c3-870106176756"
      },
      "execution_count": null,
      "outputs": [
        {
          "output_type": "stream",
          "name": "stdout",
          "text": [
            "now = 2022-06-13 15:24:05.238073\n",
            "date and time = 13/06/2022_15:24:05\n"
          ]
        }
      ]
    }
  ]
}